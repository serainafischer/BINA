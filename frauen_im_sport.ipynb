{
  "nbformat": 4,
  "nbformat_minor": 0,
  "metadata": {
    "colab": {
      "provenance": []
    },
    "kernelspec": {
      "name": "python3",
      "display_name": "Python 3"
    },
    "language_info": {
      "name": "python"
    }
  },
  "cells": [
    {
      "cell_type": "markdown",
      "source": [
        "# Frauen im Sport\n",
        "Anfang Februar 2024 wurde bekannt gegeben, dass der Bundesrat die Finanzierung für die Frauen-EM 2025 von den versprochenen 15 Millionen auf 4 Millionen reduziert hat. Im Vergleich dazu erhielten die Männer 82 Millionen.\n",
        "Quelle: https://www.srf.ch/news/schweiz/em-2025-in-der-schweiz-bund-streicht-gelder-wird-die-frauen-em-zum-gruempelturnier\n",
        " Dies stösst vielerorts auf starke Kritik. Besonders in Anbetracht dessen, dass die FIFA Frauen-Weltmeisterschaft 2023 in Neuseeland und Australien viele neue Besucherrekorde brach und ein Trend im Frauensport beobachtet wurde.\n",
        " Quelle: https://www.sportspromedia.com/insights/analysis/womens-world-cup-2023-attendance-figures-viewership-social-media/\n",
        "https://www.nielsen.com/insights/2023/womens-sports-viewership-on-the-rise/\n",
        "\n",
        "Man könnte argumentieren, dass dies eine Gegenbewegung des Trends ist und es sich grundsätzlich aber doch lohnt für die Schweiz in den Frauenfussball zu investieren."
      ],
      "metadata": {
        "id": "fq_roRpGNqzP"
      }
    },
    {
      "cell_type": "markdown",
      "source": [
        "# SRF Daten\n",
        " * Darstellung der gesamten Daten, Sportarten und Aufteilung M vs W, Entwicklung über die Jahren.\n",
        "\n",
        "\n",
        "\n",
        "\n",
        "\n",
        "\n",
        "\n"
      ],
      "metadata": {
        "id": "8q-7CP1BRJNW"
      }
    },
    {
      "cell_type": "markdown",
      "source": [
        "**Verknüpfung des Google Drive Ordners**"
      ],
      "metadata": {
        "id": "ICYtoWLK4n-l"
      }
    },
    {
      "cell_type": "code",
      "source": [
        "from google.colab import drive\n",
        "drive.mount('/content/MyGoogleDrive')"
      ],
      "metadata": {
        "colab": {
          "base_uri": "https://localhost:8080/",
          "height": 304
        },
        "id": "ygIpl7w8ntrr",
        "outputId": "68f2898b-f1a1-42a2-dd17-ef4c527e2ef7"
      },
      "execution_count": 1,
      "outputs": [
        {
          "output_type": "error",
          "ename": "MessageError",
          "evalue": "Error: credential propagation was unsuccessful",
          "traceback": [
            "\u001b[0;31m---------------------------------------------------------------------------\u001b[0m",
            "\u001b[0;31mMessageError\u001b[0m                              Traceback (most recent call last)",
            "\u001b[0;32m<ipython-input-1-14b4d77e0c09>\u001b[0m in \u001b[0;36m<cell line: 2>\u001b[0;34m()\u001b[0m\n\u001b[1;32m      1\u001b[0m \u001b[0;32mfrom\u001b[0m \u001b[0mgoogle\u001b[0m\u001b[0;34m.\u001b[0m\u001b[0mcolab\u001b[0m \u001b[0;32mimport\u001b[0m \u001b[0mdrive\u001b[0m\u001b[0;34m\u001b[0m\u001b[0;34m\u001b[0m\u001b[0m\n\u001b[0;32m----> 2\u001b[0;31m \u001b[0mdrive\u001b[0m\u001b[0;34m.\u001b[0m\u001b[0mmount\u001b[0m\u001b[0;34m(\u001b[0m\u001b[0;34m'/content/MyGoogleDrive'\u001b[0m\u001b[0;34m)\u001b[0m\u001b[0;34m\u001b[0m\u001b[0;34m\u001b[0m\u001b[0m\n\u001b[0m",
            "\u001b[0;32m/usr/local/lib/python3.10/dist-packages/google/colab/drive.py\u001b[0m in \u001b[0;36mmount\u001b[0;34m(mountpoint, force_remount, timeout_ms, readonly)\u001b[0m\n\u001b[1;32m     98\u001b[0m \u001b[0;32mdef\u001b[0m \u001b[0mmount\u001b[0m\u001b[0;34m(\u001b[0m\u001b[0mmountpoint\u001b[0m\u001b[0;34m,\u001b[0m \u001b[0mforce_remount\u001b[0m\u001b[0;34m=\u001b[0m\u001b[0;32mFalse\u001b[0m\u001b[0;34m,\u001b[0m \u001b[0mtimeout_ms\u001b[0m\u001b[0;34m=\u001b[0m\u001b[0;36m120000\u001b[0m\u001b[0;34m,\u001b[0m \u001b[0mreadonly\u001b[0m\u001b[0;34m=\u001b[0m\u001b[0;32mFalse\u001b[0m\u001b[0;34m)\u001b[0m\u001b[0;34m:\u001b[0m\u001b[0;34m\u001b[0m\u001b[0;34m\u001b[0m\u001b[0m\n\u001b[1;32m     99\u001b[0m   \u001b[0;34m\"\"\"Mount your Google Drive at the specified mountpoint path.\"\"\"\u001b[0m\u001b[0;34m\u001b[0m\u001b[0;34m\u001b[0m\u001b[0m\n\u001b[0;32m--> 100\u001b[0;31m   return _mount(\n\u001b[0m\u001b[1;32m    101\u001b[0m       \u001b[0mmountpoint\u001b[0m\u001b[0;34m,\u001b[0m\u001b[0;34m\u001b[0m\u001b[0;34m\u001b[0m\u001b[0m\n\u001b[1;32m    102\u001b[0m       \u001b[0mforce_remount\u001b[0m\u001b[0;34m=\u001b[0m\u001b[0mforce_remount\u001b[0m\u001b[0;34m,\u001b[0m\u001b[0;34m\u001b[0m\u001b[0;34m\u001b[0m\u001b[0m\n",
            "\u001b[0;32m/usr/local/lib/python3.10/dist-packages/google/colab/drive.py\u001b[0m in \u001b[0;36m_mount\u001b[0;34m(mountpoint, force_remount, timeout_ms, ephemeral, readonly)\u001b[0m\n\u001b[1;32m    131\u001b[0m   )\n\u001b[1;32m    132\u001b[0m   \u001b[0;32mif\u001b[0m \u001b[0mephemeral\u001b[0m\u001b[0;34m:\u001b[0m\u001b[0;34m\u001b[0m\u001b[0;34m\u001b[0m\u001b[0m\n\u001b[0;32m--> 133\u001b[0;31m     _message.blocking_request(\n\u001b[0m\u001b[1;32m    134\u001b[0m         \u001b[0;34m'request_auth'\u001b[0m\u001b[0;34m,\u001b[0m \u001b[0mrequest\u001b[0m\u001b[0;34m=\u001b[0m\u001b[0;34m{\u001b[0m\u001b[0;34m'authType'\u001b[0m\u001b[0;34m:\u001b[0m \u001b[0;34m'dfs_ephemeral'\u001b[0m\u001b[0;34m}\u001b[0m\u001b[0;34m,\u001b[0m \u001b[0mtimeout_sec\u001b[0m\u001b[0;34m=\u001b[0m\u001b[0;32mNone\u001b[0m\u001b[0;34m\u001b[0m\u001b[0;34m\u001b[0m\u001b[0m\n\u001b[1;32m    135\u001b[0m     )\n",
            "\u001b[0;32m/usr/local/lib/python3.10/dist-packages/google/colab/_message.py\u001b[0m in \u001b[0;36mblocking_request\u001b[0;34m(request_type, request, timeout_sec, parent)\u001b[0m\n\u001b[1;32m    174\u001b[0m       \u001b[0mrequest_type\u001b[0m\u001b[0;34m,\u001b[0m \u001b[0mrequest\u001b[0m\u001b[0;34m,\u001b[0m \u001b[0mparent\u001b[0m\u001b[0;34m=\u001b[0m\u001b[0mparent\u001b[0m\u001b[0;34m,\u001b[0m \u001b[0mexpect_reply\u001b[0m\u001b[0;34m=\u001b[0m\u001b[0;32mTrue\u001b[0m\u001b[0;34m\u001b[0m\u001b[0;34m\u001b[0m\u001b[0m\n\u001b[1;32m    175\u001b[0m   )\n\u001b[0;32m--> 176\u001b[0;31m   \u001b[0;32mreturn\u001b[0m \u001b[0mread_reply_from_input\u001b[0m\u001b[0;34m(\u001b[0m\u001b[0mrequest_id\u001b[0m\u001b[0;34m,\u001b[0m \u001b[0mtimeout_sec\u001b[0m\u001b[0;34m)\u001b[0m\u001b[0;34m\u001b[0m\u001b[0;34m\u001b[0m\u001b[0m\n\u001b[0m",
            "\u001b[0;32m/usr/local/lib/python3.10/dist-packages/google/colab/_message.py\u001b[0m in \u001b[0;36mread_reply_from_input\u001b[0;34m(message_id, timeout_sec)\u001b[0m\n\u001b[1;32m    101\u001b[0m     ):\n\u001b[1;32m    102\u001b[0m       \u001b[0;32mif\u001b[0m \u001b[0;34m'error'\u001b[0m \u001b[0;32min\u001b[0m \u001b[0mreply\u001b[0m\u001b[0;34m:\u001b[0m\u001b[0;34m\u001b[0m\u001b[0;34m\u001b[0m\u001b[0m\n\u001b[0;32m--> 103\u001b[0;31m         \u001b[0;32mraise\u001b[0m \u001b[0mMessageError\u001b[0m\u001b[0;34m(\u001b[0m\u001b[0mreply\u001b[0m\u001b[0;34m[\u001b[0m\u001b[0;34m'error'\u001b[0m\u001b[0;34m]\u001b[0m\u001b[0;34m)\u001b[0m\u001b[0;34m\u001b[0m\u001b[0;34m\u001b[0m\u001b[0m\n\u001b[0m\u001b[1;32m    104\u001b[0m       \u001b[0;32mreturn\u001b[0m \u001b[0mreply\u001b[0m\u001b[0;34m.\u001b[0m\u001b[0mget\u001b[0m\u001b[0;34m(\u001b[0m\u001b[0;34m'data'\u001b[0m\u001b[0;34m,\u001b[0m \u001b[0;32mNone\u001b[0m\u001b[0;34m)\u001b[0m\u001b[0;34m\u001b[0m\u001b[0;34m\u001b[0m\u001b[0m\n\u001b[1;32m    105\u001b[0m \u001b[0;34m\u001b[0m\u001b[0m\n",
            "\u001b[0;31mMessageError\u001b[0m: Error: credential propagation was unsuccessful"
          ]
        }
      ]
    },
    {
      "cell_type": "code",
      "source": [
        "import pandas as pd\n"
      ],
      "metadata": {
        "id": "hSzIFrthGzir"
      },
      "execution_count": null,
      "outputs": []
    },
    {
      "cell_type": "markdown",
      "source": [
        "**Datensatz wird hochgeladen**"
      ],
      "metadata": {
        "id": "q6us4urqn67_"
      }
    },
    {
      "cell_type": "code",
      "source": [
        "sourceFILE = '/content/MyGoogleDrive/MyDrive/BINA/Srf_Hauptdaten.xlsx'\n",
        "dataSrf = pd.read_excel(sourceFILE)\n",
        "print(dataSrf)"
      ],
      "metadata": {
        "id": "22Vj-8gEn2iE"
      },
      "execution_count": null,
      "outputs": []
    },
    {
      "cell_type": "markdown",
      "source": [
        "**Hier wird dem Datensatz eine zusätzliche Spalte hinzugefügt, welche angibt, ob es sich um Frauensport, Männersport oder Mixed handelt.**"
      ],
      "metadata": {
        "id": "_mrkWw_W34C0"
      }
    },
    {
      "cell_type": "code",
      "source": [
        "# Funktion zur Bestimmung des Sporttyps basierend auf Sendung und Untertitel\n",
        "def determine_sport_type(row):\n",
        "    sendung = str(row[\"Sendung\"]).lower()  # Umwandlung in Kleinbuchstaben\n",
        "    untertitel = str(row[\"Untertitel\"]).lower()  # Umwandlung in Kleinbuchstaben\n",
        "\n",
        "    # Teilstring-Suche nach den relevanten Schlüsselwörtern\n",
        "    if \"frauen\" in sendung or \"frauen\" in untertitel:\n",
        "        return \"Frauensport\"\n",
        "    elif \"männer\" in sendung or \"männer\" in untertitel:\n",
        "        return \"Männersport\"\n",
        "    else:\n",
        "        return \"Mixed\"\n",
        "\n",
        "# Füge eine neue Spalte hinzu, um den Sporttyp zu speichern\n",
        "dataSrf[\"Sporttyp\"] = dataSrf.apply(determine_sport_type, axis=1)\n",
        "dataSrf.to_excel(\"daten_mit_sporttyp.xlsx\", index=False)\n"
      ],
      "metadata": {
        "id": "zjr26X_roQkR"
      },
      "execution_count": null,
      "outputs": []
    },
    {
      "cell_type": "code",
      "source": [
        "from google.colab import drive\n",
        "drive.mount('/content/drive')"
      ],
      "metadata": {
        "id": "D14kx5MXowtL"
      },
      "execution_count": null,
      "outputs": []
    },
    {
      "cell_type": "markdown",
      "source": [
        "# Fokus auf Fussball\n",
        "Zuschauerdaten von https://www.weltfussball.com/, Frauenfussball jeweils höchste Liga.\n",
        "*   Schweiz https://www.weltfussball.com/zuschauer/sui-super-league-2023-2024/1/\n",
        "*   Deutschland https://www.weltfussball.com/zuschauer/frauen-bundesliga-2023-2024/1/\n",
        "*   Österreich (?) https://www.weltfussball.com/zuschauer/aut-frauen-bundesliga-2023-2024/1/\n",
        "*   USA https://www.weltfussball.com/zuschauer/usa-frauen-national-womens-soccer-league-2023/3/\n",
        "\n",
        "Idee: DACH vs US, können auch gerne mehr Länder vergleichen, England, Frankreich, Spanien, Italien, Brasilien, wenn es nicht zu viel Arbeit ist. Dieses Kapitel sollte zeigen, dass die Zuschauerzahlen gewachsen sind über die Jahren.\n"
      ],
      "metadata": {
        "id": "aUSbUgDsYazL"
      }
    },
    {
      "cell_type": "markdown",
      "source": [
        "# Weitere Sportarten\n"
      ],
      "metadata": {
        "id": "BBZP_C0OYVKf"
      }
    },
    {
      "cell_type": "markdown",
      "source": [
        "## Basketball\n",
        "Zuschauerdaten von WNBA Spielen (und NCAAW? NCAA höchste Kollegeliga).\n",
        "Daten: acrossthetimeline.com (und https://www.ncaa.org/sports/2013/11/27/women-s-basketball-attendance.aspx ?).\n",
        "\n",
        "Idee: Diese Kapitel soll zeigen, dass in Amerika auch andere Frauensportarten sehr im Trend sind (ripple effect). Bin mir nicht sicher, ob NCAAW Daten auch noch Sinn macht, keine Daten gefunden bist jetzt, die man einfach extrahieren kann, aber letzte Saison waren die Frauenfinale viel beliebter als das von den Männern. https://www.forbes.com/sites/bradadgate/2023/04/05/ratings-for-the-march-madness-finals-games-sets-a-record-high-women-and-a-record-low-men/\n",
        "\n"
      ],
      "metadata": {
        "id": "xqXZSh-jYhLx"
      }
    },
    {
      "cell_type": "markdown",
      "source": [
        "## Tennis\n",
        "Zuschauerzahlen vergleichen zwischen Frauenspiel und Männerspiel.\n",
        "* Wimbledon\n",
        "* US Open\n",
        "* Australian Open\n",
        "* French Open\n",
        "* Summer Games Tennis Tournament\n",
        "* BNP Paribas Open\n",
        "* WTP Finals\n",
        "* ATP Finals\n",
        "* Laver Cup\n",
        "\n",
        "Idee: Diese Kapitel sollte zeigen, dass die Zuschauerzahlen relativ gleich sind bei beiden Geschlechter. Habe noch keine Daten dafür gesucht, evtl reichen schon nur 3 Tourniere. Argumentation hier wäre, das es möglich ist, dass die Leute sich gleich viel intressieren für beide Geschlechter."
      ],
      "metadata": {
        "id": "RvETJIvsYPUS"
      }
    },
    {
      "cell_type": "markdown",
      "source": [
        "## Ski\n",
        "Idee: Ähnliche Argumentation wie beim Tennis, aber Zuschauerzahl wohl schwieriger zu vergleichen, da kein Stadion, eventuell andere Metrik nehmen."
      ],
      "metadata": {
        "id": "gL-oZlh6YJSs"
      }
    },
    {
      "cell_type": "markdown",
      "source": [
        "## Leichtathletik\n",
        "Idee: Ähnlich wie Tennis, aber Leichtathletik Meetings sind nicht immer gleich vom Inhalt (nicht alle Events bei jedem Meeting, bei World Championship und Olympiade sind aber (fasst) alle dabei). Leichtathletik ist auch sehr abhängig von Tageszeit und Programm vom Meeting."
      ],
      "metadata": {
        "id": "kqeV1GdeYDTl"
      }
    },
    {
      "cell_type": "markdown",
      "source": [
        "# Allgemein\n",
        "\n",
        "\n",
        "*   Fokus liegt auf Fussball, am meisten Daten verfügbar.\n",
        "*   Covid-Jahren werden wohl Ausreisser sein.\n",
        "*   Können auch gerne Sportarten entfernen oder hinzufügen. Eventuell Ice Hockey.\n",
        "*   Schlussfolgerung: Durch unsere Analyse sollte ersichtlich sein, dass Frauensport definitiv ein Trend ist der anhalten wird.\n",
        "\n"
      ],
      "metadata": {
        "id": "D62VjQOAYncG"
      }
    }
  ]
}